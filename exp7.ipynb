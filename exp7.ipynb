{
  "nbformat": 4,
  "nbformat_minor": 0,
  "metadata": {
    "colab": {
      "provenance": [],
      "authorship_tag": "ABX9TyOam603m0RywSkAfSm5RbPf",
      "include_colab_link": true
    },
    "kernelspec": {
      "name": "ir",
      "display_name": "R"
    },
    "language_info": {
      "name": "R"
    }
  },
  "cells": [
    {
      "cell_type": "markdown",
      "metadata": {
        "id": "view-in-github",
        "colab_type": "text"
      },
      "source": [
        "<a href=\"https://colab.research.google.com/github/venev-g/DAV/blob/main/exp7.ipynb\" target=\"_parent\"><img src=\"https://colab.research.google.com/assets/colab-badge.svg\" alt=\"Open In Colab\"/></a>"
      ]
    },
    {
      "cell_type": "code",
      "execution_count": null,
      "metadata": {
        "id": "rgalaMAp8qUq"
      },
      "outputs": [],
      "source": [
        "Visual = airquality\n",
        "str(Visual)"
      ]
    },
    {
      "cell_type": "code",
      "source": [
        "hist(Visual$Solar.R)"
      ],
      "metadata": {
        "id": "ZynzAjYo9Un2"
      },
      "execution_count": null,
      "outputs": []
    },
    {
      "cell_type": "code",
      "source": [
        "hist(airquality$Solar.R, main = 'Solar Radiation values in the\n",
        "Air',ylab='Count',xlab='Solar radiation', col='green')\n"
      ],
      "metadata": {
        "id": "Elcc4MTd-MyC"
      },
      "execution_count": null,
      "outputs": []
    },
    {
      "cell_type": "code",
      "source": [
        " barplot(Visual$Temp , main = 'Temperature Analysis', xlab =\n",
        "'Temperature', col = 'orange')"
      ],
      "metadata": {
        "id": "KKpjGDj9-U15"
      },
      "execution_count": null,
      "outputs": []
    },
    {
      "cell_type": "code",
      "source": [
        "plot(Visual$Ozone, Visual$Wind)\n"
      ],
      "metadata": {
        "id": "j8LRl2Xw-e6u"
      },
      "execution_count": null,
      "outputs": []
    },
    {
      "cell_type": "code",
      "source": [
        "plot(Visual$Temp,Visual$Ozone, col = \"blue\")"
      ],
      "metadata": {
        "id": "xiiRCl91-zvE"
      },
      "execution_count": null,
      "outputs": []
    },
    {
      "cell_type": "code",
      "source": [
        "boxplot(airquality$Solar.R,main='single Box plot\n",
        "for Sola radiation', col =\"cyan\")"
      ],
      "metadata": {
        "id": "xTyQw0Dr-82E"
      },
      "execution_count": null,
      "outputs": []
    },
    {
      "cell_type": "code",
      "source": [
        "boxplot(airquality,main='Multiple Box plots for Air quality')"
      ],
      "metadata": {
        "id": "p2yPyrgz_gQF"
      },
      "execution_count": null,
      "outputs": []
    }
  ]
}