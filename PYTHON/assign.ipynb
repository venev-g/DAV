{
 "cells": [
  {
   "cell_type": "markdown",
   "id": "e93f2e53",
   "metadata": {},
   "source": [
    "##### Assignment 2\n"
   ]
  },
  {
   "cell_type": "code",
   "execution_count": 2,
   "id": "05169767",
   "metadata": {},
   "outputs": [
    {
     "name": "stdout",
     "output_type": "stream",
     "text": [
      "Simple Interest is 200.0\n",
      "Total Amount is 1200.0\n"
     ]
    }
   ],
   "source": [
    "p = 1000\n",
    "n = 2\n",
    "r = 10\n",
    "\n",
    "# simple interest p, n, r should not be negative\n",
    "if p < 0 or n < 0 or r < 0:\n",
    "    print(\"Invalid input\")\n",
    "else:\n",
    "    # simple interest formula\n",
    "    # SI = (p * n * r) / 100\n",
    "    si = (p * n * r) / 100\n",
    "\n",
    "    # total amount\n",
    "    # A = p + SI\n",
    "    a = p + si\n",
    "\n",
    "    print(\"Simple Interest is\", si)\n",
    "    print(\"Total Amount is\", a)\n"
   ]
  },
  {
   "cell_type": "code",
   "execution_count": null,
   "id": "c92a0973",
   "metadata": {},
   "outputs": [],
   "source": [
    "#  python program to calculate the gross salary on the basis of basic salary given by employee. \n",
    "# Diet Allowance (DA) is 20% of basic salary. House Rent Allowance (HRA) is 30% of basic salary. \n",
    "# Gross salary is sum of the basic, DA and HRA.\n",
    "\n",
    "basic_salary = 10000\n",
    "da = 0.20 * basic_salary\n",
    "hra = 0.30 * basic_salary\n",
    "gross_salary = basic_salary + da + hra\n",
    "\n",
    "print(\"Gross Salary is:\", gross_salary)"
   ]
  },
  {
   "cell_type": "code",
   "execution_count": null,
   "id": "619a6bd4",
   "metadata": {},
   "outputs": [],
   "source": [
    "# calculate the area and perimeter of a circle\n",
    "import math\n",
    "\n",
    "radius = 10\n",
    "area = math.pi * radius ** 2\n",
    "perimeter = 2 * math.pi * radius"
   ]
  },
  {
   "cell_type": "code",
   "execution_count": null,
   "id": "490064b1",
   "metadata": {},
   "outputs": [],
   "source": [
    "# celsius to fahrenheit \n",
    "def celsius_to_fahrenheit(celsius):\n",
    "    return (celsius * 9/5) + 32\n"
   ]
  },
  {
   "cell_type": "code",
   "execution_count": 4,
   "id": "8c6d3bbf",
   "metadata": {},
   "outputs": [
    {
     "name": "stdout",
     "output_type": "stream",
     "text": [
      "Rs 500 notes: 5, Rs 200 notes: 1, Rs 100 notes: 1\n"
     ]
    }
   ],
   "source": [
    "# Write a Python script to determine the number of Rs 500, Rs 200, and Rs 100 notes needed to dispense for a given amount. \n",
    "# The function should minimize the number of notes dispensed by prioritising higher denominations first.\n",
    "amount = 2800\n",
    "\n",
    "# First only number of Rs 500 notes\n",
    "num_500 = amount // 500\n",
    "amount %= 500\n",
    "num_200 = amount // 200\n",
    "amount %= 200\n",
    "num_100 = amount // 100\n",
    "\n",
    "print(f\"Rs 500 notes: {num_500}, Rs 200 notes: {num_200}, Rs 100 notes: {num_100}\")"
   ]
  },
  {
   "cell_type": "markdown",
   "id": "d7b9f283",
   "metadata": {},
   "source": [
    "#### Assignment 3"
   ]
  },
  {
   "cell_type": "code",
   "execution_count": null,
   "id": "219758df",
   "metadata": {},
   "outputs": [],
   "source": [
    "# check even or odd\n",
    "num = 3\n",
    "if num % 2 == 0:\n",
    "    print(f\"{num} is even\")\n",
    "else:\n",
    "    print(f\"{num} is odd\")\n",
    "\n"
   ]
  },
  {
   "cell_type": "code",
   "execution_count": null,
   "id": "bee7f0dc",
   "metadata": {},
   "outputs": [],
   "source": [
    "# If the ages of Ram, Shyam and Ajay are given as input, write a program to determine the youngest of the three.\n",
    "r = 20\n",
    "s = 40\n",
    "a = 15\n",
    "\n",
    "if r < s and r < a:\n",
    "    print(\"Ram\")\n",
    "elif s < r and s < a:\n",
    "    print(\"Shyam\")\n",
    "else:\n",
    "    print(\"Ajay\")"
   ]
  },
  {
   "cell_type": "code",
   "execution_count": null,
   "id": "a95f7e37",
   "metadata": {},
   "outputs": [],
   "source": [
    "# Write a program to check whether a triangle is valid or invalid. A triangle is valid if sum of all the angles is equal to 180.\n",
    "a = 80\n",
    "b = 50\n",
    "c = 50\n",
    "if a + b + c == 180:\n",
    "    print(\"Valid triangle\")\n"
   ]
  },
  {
   "cell_type": "code",
   "execution_count": null,
   "id": "4851981a",
   "metadata": {},
   "outputs": [],
   "source": [
    "# Marks of 3 subject are given, write a python program to calculate the percentage and assign the grade as given below.\n",
    "m1 = 70\n",
    "m2 = 50\n",
    "m3 = 80 \n",
    "\n",
    "total_marks = m1 + m2 + m3\n",
    "percentage = (total_marks / 300) * 100\n",
    "if percentage > 80:\n",
    "    grade = \"A\"\n",
    "elif percentage > 65 and percentage <= 80:\n",
    "    grade = \"B\"\n",
    "elif percentage > 50 and percentage <= 65:\n",
    "    grade = \"C\"\n",
    "else:\n",
    "    grade = \"D\""
   ]
  },
  {
   "cell_type": "code",
   "execution_count": null,
   "id": "c7ff30a8",
   "metadata": {},
   "outputs": [],
   "source": [
    "# check leap year\n",
    "year = 2020\n",
    "if (year % 4 == 0 and year % 100 != 0) or (year % 400 == 0):\n",
    "    print(f\"{year} is a leap year\")"
   ]
  },
  {
   "cell_type": "code",
   "execution_count": null,
   "id": "e482fa0f",
   "metadata": {},
   "outputs": [],
   "source": [
    "# check armstrong number for 3 digit number\n",
    "# first check if the number is 3 digit or not\n",
    "num = 153\n",
    "\n",
    "if num < 100 or num > 999:\n",
    "    print(\"Not a 3 digit number\")\n",
    "else:\n",
    "    # check if the number is armstrong or not\n",
    "    sum = 0\n",
    "    temp = num\n",
    "    while temp > 0:\n",
    "        digit = temp % 10\n",
    "        sum += digit ** 3\n",
    "        temp //= 10\n",
    "\n",
    "    if sum == num:\n",
    "        print(f\"{num} is an armstrong number\")\n",
    "    else:\n",
    "        print(f\"{num} is not an armstrong number\")"
   ]
  },
  {
   "cell_type": "code",
   "execution_count": null,
   "id": "9d450d42",
   "metadata": {},
   "outputs": [],
   "source": [
    "# vowel or consonant\n",
    "str = \"a\"\n",
    "if str in \"aeiouAEIOU\":\n",
    "    print(f\"{str} is a vowel\")\n",
    "else:\n",
    "    print(f\"{str} is a consonant\")"
   ]
  }
 ],
 "metadata": {
  "kernelspec": {
   "display_name": "Python 3",
   "language": "python",
   "name": "python3"
  },
  "language_info": {
   "codemirror_mode": {
    "name": "ipython",
    "version": 3
   },
   "file_extension": ".py",
   "mimetype": "text/x-python",
   "name": "python",
   "nbconvert_exporter": "python",
   "pygments_lexer": "ipython3",
   "version": "3.12.1"
  }
 },
 "nbformat": 4,
 "nbformat_minor": 5
}
