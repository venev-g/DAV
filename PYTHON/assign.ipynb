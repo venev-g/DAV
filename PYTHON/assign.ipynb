{
 "cells": [
  {
   "cell_type": "markdown",
   "id": "e93f2e53",
   "metadata": {},
   "source": [
    "##### Assignment 2\n"
   ]
  },
  {
   "cell_type": "code",
   "execution_count": 2,
   "id": "05169767",
   "metadata": {},
   "outputs": [
    {
     "name": "stdout",
     "output_type": "stream",
     "text": [
      "Simple Interest is 200.0\n",
      "Total Amount is 1200.0\n"
     ]
    }
   ],
   "source": [
    "p = 1000\n",
    "n = 2\n",
    "r = 10\n",
    "\n",
    "# simple interest p, n, r should not be negative\n",
    "if p < 0 or n < 0 or r < 0:\n",
    "    print(\"Invalid input\")\n",
    "else:\n",
    "    # simple interest formula\n",
    "    # SI = (p * n * r) / 100\n",
    "    si = (p * n * r) / 100\n",
    "\n",
    "    # total amount\n",
    "    # A = p + SI\n",
    "    a = p + si\n",
    "\n",
    "    print(\"Simple Interest is\", si)\n",
    "    print(\"Total Amount is\", a)\n"
   ]
  },
  {
   "cell_type": "code",
   "execution_count": null,
   "id": "c92a0973",
   "metadata": {},
   "outputs": [],
   "source": [
    "#  python program to calculate the gross salary on the basis of basic salary given by employee. \n",
    "# Diet Allowance (DA) is 20% of basic salary. House Rent Allowance (HRA) is 30% of basic salary. \n",
    "# Gross salary is sum of the basic, DA and HRA.\n",
    "\n",
    "basic_salary = 10000\n",
    "da = 0.20 * basic_salary\n",
    "hra = 0.30 * basic_salary\n",
    "gross_salary = basic_salary + da + hra\n",
    "\n",
    "print(\"Gross Salary is:\", gross_salary)"
   ]
  },
  {
   "cell_type": "code",
   "execution_count": null,
   "id": "619a6bd4",
   "metadata": {},
   "outputs": [],
   "source": [
    "# calculate the area and perimeter of a circle\n",
    "import math\n",
    "\n",
    "radius = 10\n",
    "area = math.pi * radius ** 2\n",
    "perimeter = 2 * math.pi * radius"
   ]
  },
  {
   "cell_type": "code",
   "execution_count": null,
   "id": "490064b1",
   "metadata": {},
   "outputs": [],
   "source": [
    "# celsius to fahrenheit \n",
    "def celsius_to_fahrenheit(celsius):\n",
    "    return (celsius * 9/5) + 32\n"
   ]
  },
  {
   "cell_type": "code",
   "execution_count": 4,
   "id": "8c6d3bbf",
   "metadata": {},
   "outputs": [
    {
     "name": "stdout",
     "output_type": "stream",
     "text": [
      "Rs 500 notes: 5, Rs 200 notes: 1, Rs 100 notes: 1\n"
     ]
    }
   ],
   "source": [
    "# Write a Python script to determine the number of Rs 500, Rs 200, and Rs 100 notes needed to dispense for a given amount. \n",
    "# The function should minimize the number of notes dispensed by prioritising higher denominations first.\n",
    "amount = 2800\n",
    "\n",
    "# First only number of Rs 500 notes\n",
    "num_500 = amount // 500\n",
    "amount %= 500\n",
    "num_200 = amount // 200\n",
    "amount %= 200\n",
    "num_100 = amount // 100\n",
    "\n",
    "print(f\"Rs 500 notes: {num_500}, Rs 200 notes: {num_200}, Rs 100 notes: {num_100}\")"
   ]
  },
  {
   "cell_type": "markdown",
   "id": "d7b9f283",
   "metadata": {},
   "source": [
    "#### Assignment 3"
   ]
  },
  {
   "cell_type": "code",
   "execution_count": null,
   "id": "219758df",
   "metadata": {},
   "outputs": [],
   "source": [
    "# check even or odd\n",
    "num = 3\n",
    "if num % 2 == 0:\n",
    "    print(f\"{num} is even\")\n",
    "else:\n",
    "    print(f\"{num} is odd\")\n",
    "\n"
   ]
  },
  {
   "cell_type": "code",
   "execution_count": null,
   "id": "bee7f0dc",
   "metadata": {},
   "outputs": [],
   "source": [
    "# If the ages of Ram, Shyam and Ajay are given as input, write a program to determine the youngest of the three.\n",
    "r = 20\n",
    "s = 40\n",
    "a = 15\n",
    "\n",
    "if r < s and r < a:\n",
    "    print(\"Ram\")\n",
    "elif s < r and s < a:\n",
    "    print(\"Shyam\")\n",
    "else:\n",
    "    print(\"Ajay\")"
   ]
  },
  {
   "cell_type": "code",
   "execution_count": null,
   "id": "a95f7e37",
   "metadata": {},
   "outputs": [],
   "source": [
    "# Write a program to check whether a triangle is valid or invalid. A triangle is valid if sum of all the angles is equal to 180.\n",
    "a = 80\n",
    "b = 50\n",
    "c = 50\n",
    "if a + b + c == 180:\n",
    "    print(\"Valid triangle\")\n"
   ]
  },
  {
   "cell_type": "code",
   "execution_count": null,
   "id": "4851981a",
   "metadata": {},
   "outputs": [],
   "source": [
    "# Marks of 3 subject are given, write a python program to calculate the percentage and assign the grade as given below.\n",
    "m1 = 70\n",
    "m2 = 50\n",
    "m3 = 80 \n",
    "\n",
    "total_marks = m1 + m2 + m3\n",
    "percentage = (total_marks / 300) * 100\n",
    "if percentage > 80:\n",
    "    grade = \"A\"\n",
    "elif percentage > 65 and percentage <= 80:\n",
    "    grade = \"B\"\n",
    "elif percentage > 50 and percentage <= 65:\n",
    "    grade = \"C\"\n",
    "else:\n",
    "    grade = \"D\""
   ]
  },
  {
   "cell_type": "code",
   "execution_count": null,
   "id": "c7ff30a8",
   "metadata": {},
   "outputs": [],
   "source": [
    "# check leap year\n",
    "year = 2020\n",
    "if (year % 4 == 0 and year % 100 != 0) or (year % 400 == 0):\n",
    "    print(f\"{year} is a leap year\")"
   ]
  },
  {
   "cell_type": "code",
   "execution_count": null,
   "id": "e482fa0f",
   "metadata": {},
   "outputs": [],
   "source": [
    "# check armstrong number for 3 digit number\n",
    "# first check if the number is 3 digit or not\n",
    "num = 153\n",
    "\n",
    "if num < 100 or num > 999:\n",
    "    print(\"Not a 3 digit number\")\n",
    "else:\n",
    "    # check if the number is armstrong or not\n",
    "    sum = 0\n",
    "    temp = num\n",
    "    while temp > 0:\n",
    "        digit = temp % 10\n",
    "        sum += digit ** 3\n",
    "        temp //= 10\n",
    "\n",
    "    if sum == num:\n",
    "        print(f\"{num} is an armstrong number\")\n",
    "    else:\n",
    "        print(f\"{num} is not an armstrong number\")"
   ]
  },
  {
   "cell_type": "code",
   "execution_count": null,
   "id": "9d450d42",
   "metadata": {},
   "outputs": [],
   "source": [
    "# vowel or consonant\n",
    "str = \"a\"\n",
    "if str in \"aeiouAEIOU\":\n",
    "    print(f\"{str} is a vowel\")\n",
    "else:\n",
    "    print(f\"{str} is a consonant\")"
   ]
  },
  {
   "cell_type": "markdown",
   "id": "df8074b9",
   "metadata": {},
   "source": [
    "#### Assignment 4"
   ]
  },
  {
   "cell_type": "code",
   "execution_count": null,
   "id": "16adeb04",
   "metadata": {},
   "outputs": [],
   "source": [
    "# sum of n of odd numbers from 1 to n\n",
    "n = 10\n",
    "sum = 0\n",
    "for i in range(1, n + 1):\n",
    "    if i % 2 != 0:\n",
    "        sum += i\n",
    "\n"
   ]
  },
  {
   "cell_type": "code",
   "execution_count": null,
   "id": "73ed8ce5",
   "metadata": {},
   "outputs": [],
   "source": [
    "# find factorial of a number\n",
    "n = 5\n",
    "fact = 1\n",
    "for i in range(1, n + 1):\n",
    "    fact *= i\n"
   ]
  },
  {
   "cell_type": "code",
   "execution_count": null,
   "id": "5e581062",
   "metadata": {},
   "outputs": [],
   "source": [
    "# Check perfect number\n",
    "num = 28\n",
    "sum = 0\n",
    "for i in range(1, num):\n",
    "    if num % i == 0:\n",
    "        sum += i\n",
    "if sum == num:\n",
    "    print(f\"{num} is a perfect number\")\n",
    "else:\n",
    "    print(f\"{num} is not a perfect number\")\n",
    "    "
   ]
  },
  {
   "cell_type": "code",
   "execution_count": 5,
   "id": "89d114c3",
   "metadata": {},
   "outputs": [
    {
     "name": "stdout",
     "output_type": "stream",
     "text": [
      "0\n",
      "1\n",
      "1\n",
      "2\n",
      "3\n",
      "5\n",
      "8\n",
      "13\n",
      "21\n",
      "34\n"
     ]
    }
   ],
   "source": [
    "# find fibonacci series in python and print as each value on each line\n",
    "n = 10\n",
    "a, b = 0, 1\n",
    "fibonacci_series = []\n",
    "for i in range(n):\n",
    "    fibonacci_series.append(a)\n",
    "    a, b = b, a + b\n",
    "for num in fibonacci_series:\n",
    "    print(num)\n",
    "    "
   ]
  },
  {
   "cell_type": "code",
   "execution_count": null,
   "id": "e02fcae2",
   "metadata": {},
   "outputs": [],
   "source": [
    "# Check prime number\n",
    "num = 29\n",
    "is_prime = True\n",
    "if num < 2:\n",
    "    is_prime = False\n",
    "else:\n",
    "    for i in range(2, int(num ** 0.5) + 1):\n",
    "        if num % i == 0:\n",
    "            is_prime = False\n",
    "            break\n",
    "if is_prime:\n",
    "    print(f\"{num} is a prime number\")\n",
    "else:\n",
    "    print(f\"{num} is not a prime number\")"
   ]
  },
  {
   "cell_type": "code",
   "execution_count": 6,
   "id": "5de74a9c",
   "metadata": {},
   "outputs": [
    {
     "name": "stdout",
     "output_type": "stream",
     "text": [
      "2\n",
      "3\n",
      "5\n",
      "7\n"
     ]
    }
   ],
   "source": [
    "# PRINT prime numbers from 1 to n\n",
    "n = 10\n",
    "for num in range(2, n + 1):\n",
    "    is_prime = True\n",
    "    for i in range(2, int(num ** 0.5) + 1):\n",
    "        if num % i == 0:\n",
    "            is_prime = False\n",
    "            break\n",
    "    if is_prime:\n",
    "        print(num)"
   ]
  },
  {
   "cell_type": "code",
   "execution_count": null,
   "id": "71e5cfb0",
   "metadata": {},
   "outputs": [],
   "source": [
    "# print pattern:\n",
    "# *******\n",
    "# ******\n",
    "# *****\n",
    "# ****\n",
    "# ***\n",
    "# **\n",
    "# *\n",
    "\n",
    "n = 4\n",
    "for i in range(n, 0, -1):\n",
    "    for j in range(i):\n",
    "        print(\"*\", end=\"\")\n",
    "    print()\n",
    "    "
   ]
  },
  {
   "cell_type": "code",
   "execution_count": null,
   "id": "4ff3c105",
   "metadata": {},
   "outputs": [],
   "source": [
    "# print floyd triangle\n",
    "n = 3\n",
    "num = 1\n",
    "for i in range(1, n + 1):\n",
    "    for j in range(i):\n",
    "        print(num, end=\" \")\n",
    "        num += 1\n",
    "    print()"
   ]
  },
  {
   "cell_type": "code",
   "execution_count": null,
   "id": "189e6f0f",
   "metadata": {},
   "outputs": [],
   "source": [
    "# A\n",
    "# AB\n",
    "# ABC\n",
    "# ABCD\n",
    "# print pattern\n",
    "n = 4\n",
    "for i in range(1, n + 1):\n",
    "    for j in range(65, 65 + i):\n",
    "        print(chr(j), end=\"\")\n",
    "    print()"
   ]
  },
  {
   "cell_type": "code",
   "execution_count": null,
   "id": "5fecfaf5",
   "metadata": {},
   "outputs": [],
   "source": [
    "# 1\n",
    "# 22\n",
    "# 333\n",
    "# 4444\n",
    "# print pattern\n",
    "n = 4\n",
    "for i in range(1, n + 1):\n",
    "    for j in range(i):\n",
    "        print(i, end=\"\")\n",
    "    print()"
   ]
  },
  {
   "cell_type": "markdown",
   "id": "cef463ec",
   "metadata": {},
   "source": [
    "#### Assignment 5"
   ]
  },
  {
   "cell_type": "code",
   "execution_count": null,
   "id": "5d63636c",
   "metadata": {},
   "outputs": [],
   "source": [
    "# count the number of positive values given in the list.\n",
    "l = [-1, 2, 3, -4, 5, -6]\n",
    "positive_count = 0\n",
    "for num in l:\n",
    "    if num > 0:\n",
    "        positive_count += 1"
   ]
  },
  {
   "cell_type": "code",
   "execution_count": null,
   "id": "c997b591",
   "metadata": {},
   "outputs": [],
   "source": [
    "# sum of odd values in given list\n",
    "l = [1, 2, 3, 4, 5]\n",
    "odd_sum = 0\n",
    "for num in l:\n",
    "    if num % 2 != 0:\n",
    "        odd_sum += num\n"
   ]
  },
  {
   "cell_type": "code",
   "execution_count": null,
   "id": "b87e39c2",
   "metadata": {},
   "outputs": [],
   "source": [
    "# number of times \"4\" is present in the list\n",
    "l = [1, 2, 3, 4, 4, 4]\n",
    "count = 0\n",
    "for num in l:\n",
    "    if num == 4:\n",
    "        count += 1"
   ]
  },
  {
   "cell_type": "code",
   "execution_count": null,
   "id": "6af127dd",
   "metadata": {},
   "outputs": [],
   "source": [
    "# find minimum value in the list\n",
    "l = [1, 2, 3, 4, -5]\n",
    "min_value = l[0]\n",
    "for num in l:\n",
    "    if num < min_value:\n",
    "        min_value = num\n",
    "        "
   ]
  },
  {
   "cell_type": "code",
   "execution_count": null,
   "id": "df90807e",
   "metadata": {},
   "outputs": [],
   "source": [
    "# find the position of first occurrence of a given element assigned to variable n in the given list l.\n",
    "l = [1, 2, 3, 4, 4, 5]\n",
    "n = 4\n",
    "position = -1\n",
    "for i in range(len(l)):\n",
    "    if l[i] == n:\n",
    "        position = i\n",
    "        break"
   ]
  },
  {
   "cell_type": "code",
   "execution_count": null,
   "id": "1e9217c1",
   "metadata": {},
   "outputs": [],
   "source": [
    "# find the occurrence of a given character in the given string\n",
    "str = \"communication\"\n",
    "s = \"m\"\n",
    "count = 0\n",
    "for char in str:\n",
    "    if char == s:\n",
    "        count += 1\n"
   ]
  },
  {
   "cell_type": "code",
   "execution_count": 2,
   "id": "1039a6d2",
   "metadata": {},
   "outputs": [
    {
     "name": "stdout",
     "output_type": "stream",
     "text": [
      "Vowels: 3\n",
      "Consonants: 5\n"
     ]
    }
   ],
   "source": [
    "#  count the number of vowels and consonant in the given string.\n",
    "str = \"itvedant\"\n",
    "vowels = \"aeiouAEIOU\"\n",
    "vowel_count = 0\n",
    "consonant_count = 0\n",
    "for char in str:\n",
    "    if char in vowels:\n",
    "        vowel_count += 1\n",
    "    elif char.isalpha():\n",
    "        consonant_count += 1\n",
    "\n",
    "print(\"Vowels:\", vowel_count)\n",
    "print(\"Consonants:\", consonant_count)"
   ]
  },
  {
   "cell_type": "code",
   "execution_count": null,
   "id": "9c948aa0",
   "metadata": {},
   "outputs": [],
   "source": [
    "# check the given string is a palindrome or not.\n",
    "str = \"madam\"\n",
    "if str == str[::-1]:\n",
    "    print(f\"{str} is a palindrome\")\n",
    "else:\n",
    "    print(f\"{str} is not a palindrome\")"
   ]
  },
  {
   "cell_type": "code",
   "execution_count": null,
   "id": "ff42682e",
   "metadata": {},
   "outputs": [],
   "source": [
    "# reverse words in the given string\n",
    "str = \"Hello World\"\n",
    "words = str.split()\n",
    "reversed_words = \" \".join(reversed(words))\n",
    "print(reversed_words)\n"
   ]
  },
  {
   "cell_type": "code",
   "execution_count": 4,
   "id": "b75fbeae",
   "metadata": {},
   "outputs": [
    {
     "name": "stdout",
     "output_type": "stream",
     "text": [
      "Diagonal sum: 15\n"
     ]
    }
   ],
   "source": [
    "# sum of diagonal elements in a matrix\n",
    "matrix = [[1, 2, 3], [4, 5, 6], [7, 8, 9]]\n",
    "diagonal_sum = 0\n",
    "for i in range(len(matrix)):\n",
    "    diagonal_sum += matrix[i][i]\n",
    "print(\"Diagonal sum:\", diagonal_sum)\n",
    "\n"
   ]
  },
  {
   "cell_type": "markdown",
   "id": "7893ff90",
   "metadata": {},
   "source": [
    "#### Assignment 6"
   ]
  },
  {
   "cell_type": "code",
   "execution_count": 5,
   "id": "ec90bb5b",
   "metadata": {},
   "outputs": [
    {
     "name": "stdout",
     "output_type": "stream",
     "text": [
      "[1, 2, 3, 4]\n"
     ]
    }
   ],
   "source": [
    "#define a function names unique_list to return unique list by removing duplicate elements in the list.\n",
    "# the order of the elements should be preserved.\n",
    "def unique_list(lst):\n",
    "    unique = []\n",
    "    for item in lst:\n",
    "        if item not in unique:\n",
    "            unique.append(item)\n",
    "    return unique\n",
    "# Example usage\n",
    "lst = [1, 2, 3, 1, 2, 4]\n",
    "unique = unique_list(lst)\n",
    "print(unique)  # Output: [1, 2, 3, 4]"
   ]
  },
  {
   "cell_type": "code",
   "execution_count": 6,
   "id": "3f0bdfc4",
   "metadata": {},
   "outputs": [
    {
     "name": "stdout",
     "output_type": "stream",
     "text": [
      "2\n"
     ]
    }
   ],
   "source": [
    "# Define a python function count_upper to count the number of uppercase alphabets of a string given to function count_upper.\n",
    "def count_upper(string):\n",
    "    count = 0\n",
    "    for char in string:\n",
    "        if char.isupper():\n",
    "            count += 1\n",
    "    return count\n",
    "# Example usage\n",
    "string = \"Hello World\"\n",
    "upper_count = count_upper(string)\n",
    "print(upper_count)  # Output: 2"
   ]
  },
  {
   "cell_type": "code",
   "execution_count": null,
   "id": "9878d18f",
   "metadata": {},
   "outputs": [],
   "source": []
  }
 ],
 "metadata": {
  "kernelspec": {
   "display_name": "Python 3",
   "language": "python",
   "name": "python3"
  },
  "language_info": {
   "codemirror_mode": {
    "name": "ipython",
    "version": 3
   },
   "file_extension": ".py",
   "mimetype": "text/x-python",
   "name": "python",
   "nbconvert_exporter": "python",
   "pygments_lexer": "ipython3",
   "version": "3.12.1"
  }
 },
 "nbformat": 4,
 "nbformat_minor": 5
}
