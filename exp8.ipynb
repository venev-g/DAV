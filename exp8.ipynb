{
  "nbformat": 4,
  "nbformat_minor": 0,
  "metadata": {
    "colab": {
      "provenance": [],
      "authorship_tag": "ABX9TyNlFQhKk5odf9C5InGXVocJ",
      "include_colab_link": true
    },
    "kernelspec": {
      "name": "ir",
      "display_name": "R"
    },
    "language_info": {
      "name": "R"
    }
  },
  "cells": [
    {
      "cell_type": "markdown",
      "metadata": {
        "id": "view-in-github",
        "colab_type": "text"
      },
      "source": [
        "<a href=\"https://colab.research.google.com/github/venev-g/DAV/blob/main/exp8.ipynb\" target=\"_parent\"><img src=\"https://colab.research.google.com/assets/colab-badge.svg\" alt=\"Open In Colab\"/></a>"
      ]
    },
    {
      "cell_type": "code",
      "execution_count": null,
      "metadata": {
        "id": "N42mw3nhAqgM"
      },
      "outputs": [],
      "source": [
        "library(ggplot2)\n",
        "library(datasets)"
      ]
    },
    {
      "cell_type": "code",
      "source": [
        "data(iris)\n",
        "head(iris)"
      ],
      "metadata": {
        "id": "J9869AyXB4qo"
      },
      "execution_count": null,
      "outputs": []
    },
    {
      "cell_type": "code",
      "source": [
        "ggplot(iris, aes(Species, Petal.Width, fill=Species)) + geom_boxplot() +\n",
        "labs(title = \"Box Plot for Iris Petal Width for all Species \", x = \"Species\")"
      ],
      "metadata": {
        "id": "qrxP8rC5CHIT"
      },
      "execution_count": null,
      "outputs": []
    },
    {
      "cell_type": "code",
      "source": [
        "ggplot(data = iris, aes(x = Petal.Length)) +\n",
        "geom_histogram(binwidth = 0.5, color = \"black\", aes(fill = Species)) +\n",
        "xlab(\"Petal Length\") +\n",
        "ylab(\"Frequency\") +\n",
        "ggtitle(\"Histogram of Petal Length\")"
      ],
      "metadata": {
        "id": "ZruvzMatCMG7"
      },
      "execution_count": null,
      "outputs": []
    },
    {
      "cell_type": "code",
      "source": [
        "ggplot(data = iris, aes(x = Petal.Length, y = Petal.Width)) +\n",
        "xlab(\"Petal Length\") +\n",
        "ylab(\"Petal Width\") +\n",
        "geom_point(aes(color = Species, shape = Species), size = 2) +\n",
        "ggtitle(\"Petal Length vs Petal Width Scatter Plot\")"
      ],
      "metadata": {
        "id": "MdYghm7MCd_r"
      },
      "execution_count": null,
      "outputs": []
    },
    {
      "cell_type": "code",
      "source": [
        "ggplot(iris, aes(Species, y = Petal.Length)) + geom_violin()"
      ],
      "metadata": {
        "id": "esh89GvUCs5T"
      },
      "execution_count": null,
      "outputs": []
    }
  ]
}