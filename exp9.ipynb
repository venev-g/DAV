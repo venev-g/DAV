{
  "nbformat": 4,
  "nbformat_minor": 0,
  "metadata": {
    "colab": {
      "provenance": [],
      "authorship_tag": "ABX9TyMybgcHglUe0fPHPmoLHgRz",
      "include_colab_link": true
    },
    "kernelspec": {
      "name": "python3",
      "display_name": "Python 3"
    },
    "language_info": {
      "name": "python"
    }
  },
  "cells": [
    {
      "cell_type": "markdown",
      "metadata": {
        "id": "view-in-github",
        "colab_type": "text"
      },
      "source": [
        "<a href=\"https://colab.research.google.com/github/venev-g/DAV/blob/main/exp9.ipynb\" target=\"_parent\"><img src=\"https://colab.research.google.com/assets/colab-badge.svg\" alt=\"Open In Colab\"/></a>"
      ]
    },
    {
      "cell_type": "code",
      "source": [
        "import seaborn as sns\n",
        "import numpy as np\n",
        "import pandas as pd"
      ],
      "metadata": {
        "id": "SBE5jEJ3EjZd"
      },
      "execution_count": null,
      "outputs": []
    },
    {
      "cell_type": "code",
      "source": [
        "sns.set(style=\"whitegrid\")"
      ],
      "metadata": {
        "id": "00XE8EiMEpQM"
      },
      "execution_count": null,
      "outputs": []
    },
    {
      "cell_type": "code",
      "source": [
        "rs = np.random.RandomState( 10 )\n",
        "d = rs.normal( size = 50 )"
      ],
      "metadata": {
        "id": "4ZD9z1llE6jS"
      },
      "execution_count": null,
      "outputs": []
    },
    {
      "cell_type": "code",
      "source": [
        "sns.histplot(d, kde = True, color = \"g\")"
      ],
      "metadata": {
        "id": "H0x5hI-AE-VS"
      },
      "execution_count": null,
      "outputs": []
    },
    {
      "cell_type": "code",
      "source": [
        "data = pd.read_csv(\"nba.csv\")\n",
        "data"
      ],
      "metadata": {
        "id": "A-xek0JzFNMI"
      },
      "execution_count": null,
      "outputs": []
    },
    {
      "source": [
        "# @title Position vs Age\n",
        "from matplotlib import pyplot as plt\n",
        "import seaborn as sns\n",
        "figsize = (12, 1.2 * len(data['Position'].unique()))\n",
        "plt.figure(figsize=figsize)\n",
        "sns.violinplot(data, x='Age', y='Position', inner='stick', palette='Dark2')\n",
        "sns.despine(top=True, right=True, bottom=True, left=True)"
      ],
      "cell_type": "code",
      "execution_count": null,
      "outputs": [],
      "metadata": {
        "id": "7rYsP1DNJ8AF"
      }
    },
    {
      "source": [
        "\n",
        "import matplotlib.pyplot as plt\n",
        "plt.scatter(data['Age'], data['Salary'], c=data['Age'], cmap='viridis')\n",
        "plt.xlabel('Age')\n",
        "_ = plt.ylabel('Salary')"
      ],
      "cell_type": "code",
      "execution_count": null,
      "outputs": [],
      "metadata": {
        "id": "olAZKgQcJbNA"
      }
    },
    {
      "source": [
        "from matplotlib import pyplot as plt\n",
        "import seaborn as sns\n",
        "data.groupby('Position').size().plot(kind='barh', color=sns.palettes.mpl_palette('Dark2'))\n",
        "plt.gca().spines[['top', 'right',]].set_visible(False)"
      ],
      "cell_type": "code",
      "metadata": {
        "id": "7JsIviuUIuAl"
      },
      "execution_count": null,
      "outputs": []
    },
    {
      "cell_type": "code",
      "source": [
        "sns.lineplot(x=data['Age'], y=data['Weight'])"
      ],
      "metadata": {
        "id": "pxakBOkxH9u_"
      },
      "execution_count": null,
      "outputs": []
    },
    {
      "cell_type": "code",
      "source": [
        "sns.scatterplot(x=data['Age'],y=data['Weight'], color = \"brown\")"
      ],
      "metadata": {
        "id": "hY-3PcwiINJI"
      },
      "execution_count": null,
      "outputs": []
    },
    {
      "cell_type": "code",
      "source": [
        "sns.boxplot( x=data['Age'], y=data['Weight'], color =\"purple\")"
      ],
      "metadata": {
        "id": "tPIwwl3AIh8z"
      },
      "execution_count": null,
      "outputs": []
    },
    {
      "cell_type": "code",
      "source": [
        "\n",
        "sns.kdeplot(data['Age'], color = \"cyan\", fill = True, label = \"Age\")\n",
        "sns.kdeplot(data['Weight'], color = \"magenta\", fill = True, label = \"Weight\")\n",
        "plt.legend()\n"
      ],
      "metadata": {
        "id": "u7Gi6yrfKO9v"
      },
      "execution_count": null,
      "outputs": []
    }
  ]
}