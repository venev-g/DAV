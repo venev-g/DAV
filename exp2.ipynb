{
  "cells": [
    {
      "cell_type": "markdown",
      "metadata": {
        "id": "view-in-github",
        "colab_type": "text"
      },
      "source": [
        "<a href=\"https://colab.research.google.com/github/venev-g/DAV/blob/main/exp2.ipynb\" target=\"_parent\"><img src=\"https://colab.research.google.com/assets/colab-badge.svg\" alt=\"Open In Colab\"/></a>"
      ]
    },
    {
      "cell_type": "code",
      "source": [
        "import pandas as pd\n",
        "from sklearn.model_selection import train_test_split\n",
        "from sklearn.linear_model import LinearRegression\n",
        "import matplotlib.pyplot as plt\n"
      ],
      "metadata": {
        "id": "kaeDFz4lVp8U"
      },
      "execution_count": null,
      "outputs": []
    },
    {
      "cell_type": "code",
      "source": [
        "train_data = pd.read_csv(\"/content/sample_data/california_housing_train.csv\")\n",
        "test_data = pd.read_csv(\"/content/sample_data/california_housing_test.csv\")"
      ],
      "metadata": {
        "id": "sjqtSf_DWFKx"
      },
      "execution_count": null,
      "outputs": []
    },
    {
      "cell_type": "code",
      "source": [
        "train_data.head()"
      ],
      "metadata": {
        "id": "HMJsVA4cWpfE"
      },
      "execution_count": null,
      "outputs": []
    },
    {
      "cell_type": "code",
      "source": [
        "features = [\"median_income\"]  # Feature to use for prediction\n",
        "target = \"median_house_value\"   # Target variable\n"
      ],
      "metadata": {
        "id": "9i_wI57WWXFb"
      },
      "execution_count": null,
      "outputs": []
    },
    {
      "cell_type": "code",
      "source": [
        "X_train, X_test, y_train, y_test = train_test_split(train_data[features], train_data[target], test_size=0.3, random_state=42)"
      ],
      "metadata": {
        "id": "-slJJGe_WdYb"
      },
      "execution_count": null,
      "outputs": []
    },
    {
      "cell_type": "code",
      "source": [
        "plt.scatter(X_train, y_train, alpha=0.5, color=\"green\")\n",
        "plt.xlabel(features[0])\n",
        "plt.ylabel(target)\n",
        "plt.title(\"Scatter Plot of Feature vs. Target\")\n",
        "plt.show()"
      ],
      "metadata": {
        "id": "yZfAObOBXZ2S"
      },
      "execution_count": null,
      "outputs": []
    },
    {
      "cell_type": "code",
      "source": [
        "model = LinearRegression()\n",
        "model.fit(X_train, y_train)\n"
      ],
      "metadata": {
        "id": "CB1Vova5XrRT"
      },
      "execution_count": null,
      "outputs": []
    },
    {
      "cell_type": "code",
      "source": [
        "print(\"Model Coefficients:\", model.coef_)\n",
        "print(\"Model Intercept:\", model.intercept_)\n"
      ],
      "metadata": {
        "id": "i9Nna50eX3gq"
      },
      "execution_count": null,
      "outputs": []
    },
    {
      "cell_type": "code",
      "source": [
        "new_data = pd.DataFrame({\"median_income\": [2.1, 1.660]})\n",
        "predicted_values = model.predict(new_data)\n",
        "\n",
        "print(\"Predicted values:\", predicted_values)\n"
      ],
      "metadata": {
        "id": "B7JrBJ6qYRv5"
      },
      "execution_count": null,
      "outputs": []
    },
    {
      "cell_type": "code",
      "source": [
        "y_pred_test = model.predict(X_test)\n",
        "plt.scatter(X_test, y_test, alpha=0.5, color=\"red\")  # Color test points red\n",
        "plt.plot(X_test, y_pred_test)  # Add regression line\n",
        "plt.xlabel(features[0])\n",
        "plt.ylabel(target)\n",
        "plt.title(\"Test Set Results with Regression Line\")\n",
        "plt.show()"
      ],
      "metadata": {
        "id": "YN7D_8LzYycZ"
      },
      "execution_count": null,
      "outputs": []
    }
  ],
  "metadata": {
    "kernelspec": {
      "display_name": "Python 3",
      "name": "python3"
    },
    "language_info": {
      "name": "python"
    },
    "colab": {
      "provenance": [],
      "toc_visible": true,
      "include_colab_link": true
    }
  },
  "nbformat": 4,
  "nbformat_minor": 0
}